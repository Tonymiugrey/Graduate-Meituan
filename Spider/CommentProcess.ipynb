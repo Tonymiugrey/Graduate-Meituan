{
 "cells": [
  {
   "cell_type": "code",
   "execution_count": 1,
   "id": "5c03c70c",
   "metadata": {
    "ExecuteTime": {
     "end_time": "2023-02-25T14:25:41.123721Z",
     "start_time": "2023-02-25T14:25:40.215262Z"
    }
   },
   "outputs": [],
   "source": [
    "import pandas as pd\n",
    "from matplotlib import pyplot as plt"
   ]
  },
  {
   "cell_type": "code",
   "execution_count": 2,
   "id": "31c86386",
   "metadata": {
    "ExecuteTime": {
     "end_time": "2023-02-25T14:26:08.833348Z",
     "start_time": "2023-02-25T14:26:08.675315Z"
    }
   },
   "outputs": [
    {
     "data": {
      "text/html": [
       "<div>\n",
       "<style scoped>\n",
       "    .dataframe tbody tr th:only-of-type {\n",
       "        vertical-align: middle;\n",
       "    }\n",
       "\n",
       "    .dataframe tbody tr th {\n",
       "        vertical-align: top;\n",
       "    }\n",
       "\n",
       "    .dataframe thead th {\n",
       "        text-align: right;\n",
       "    }\n",
       "</style>\n",
       "<table border=\"1\" class=\"dataframe\">\n",
       "  <thead>\n",
       "    <tr style=\"text-align: right;\">\n",
       "      <th></th>\n",
       "      <th>店铺名</th>\n",
       "      <th>评论内容</th>\n",
       "      <th>评分</th>\n",
       "      <th>原链接</th>\n",
       "      <th>页码</th>\n",
       "    </tr>\n",
       "  </thead>\n",
       "  <tbody>\n",
       "    <tr>\n",
       "      <th>0</th>\n",
       "      <td>琴海海鲜大排档（横琴长隆店）</td>\n",
       "      <td>昨天情人节过来珠海长隆玩[呲牙]在周边住宿了一晚，打开美团看着这家排名第一想尝试一下，出品份...</td>\n",
       "      <td>5.0</td>\n",
       "      <td>https://i.meituan.com/poi/1413877896/feedbacks</td>\n",
       "      <td>1</td>\n",
       "    </tr>\n",
       "    <tr>\n",
       "      <th>1</th>\n",
       "      <td>琴海海鲜大排档（横琴长隆店）</td>\n",
       "      <td>买的是套餐，价格非常实惠，性价比非常高，菜品味道不错，连续两天都在这家吃饭，离珠海长隆海洋王...</td>\n",
       "      <td>5.0</td>\n",
       "      <td>https://i.meituan.com/poi/1413877896/feedbacks</td>\n",
       "      <td>1</td>\n",
       "    </tr>\n",
       "    <tr>\n",
       "      <th>2</th>\n",
       "      <td>琴海海鲜大排档（横琴长隆店）</td>\n",
       "      <td>菜的味道非常出乎意料，非常好吃，一百多的团购绝了，半斤白灼虾大概十五六只，个头可以，而且没有...</td>\n",
       "      <td>5.0</td>\n",
       "      <td>https://i.meituan.com/poi/1413877896/feedbacks</td>\n",
       "      <td>1</td>\n",
       "    </tr>\n",
       "    <tr>\n",
       "      <th>3</th>\n",
       "      <td>琴海海鲜大排档（横琴长隆店）</td>\n",
       "      <td>那个龙虾我是真感觉不新鲜，一上菜就是一股异味，但又不是很重，暗淡无光，就是感觉不鲜甜，没我在...</td>\n",
       "      <td>2.0</td>\n",
       "      <td>https://i.meituan.com/poi/1413877896/feedbacks</td>\n",
       "      <td>1</td>\n",
       "    </tr>\n",
       "    <tr>\n",
       "      <th>4</th>\n",
       "      <td>琴海海鲜大排档（横琴长隆店）</td>\n",
       "      <td>四人餐选了图片的菜还有四个生蚝一碟油菜没拍照。虾吃了8只才想起来拍照。生蚝吃起来不腥很赞！皮...</td>\n",
       "      <td>3.5</td>\n",
       "      <td>https://i.meituan.com/poi/1413877896/feedbacks</td>\n",
       "      <td>1</td>\n",
       "    </tr>\n",
       "    <tr>\n",
       "      <th>...</th>\n",
       "      <td>...</td>\n",
       "      <td>...</td>\n",
       "      <td>...</td>\n",
       "      <td>...</td>\n",
       "      <td>...</td>\n",
       "    </tr>\n",
       "    <tr>\n",
       "      <th>33593</th>\n",
       "      <td>古琢小馆·珠海味（创想公社店）</td>\n",
       "      <td>第一次和朋友来，两大两小，花了三百多，份量不多，有点小贵，大众点评打卡还送饮料</td>\n",
       "      <td>4.0</td>\n",
       "      <td>https://i.meituan.com/poi/793849332/feedbacks</td>\n",
       "      <td>15</td>\n",
       "    </tr>\n",
       "    <tr>\n",
       "      <th>33594</th>\n",
       "      <td>古琢小馆·珠海味（创想公社店）</td>\n",
       "      <td>「#啫啫战斗鸡」鸡肉不错，鲜嫩多汁，很入味，推荐尝试「#鳝丝煲仔饭」鳝鱼煲仔饭就…很一般，鳝...</td>\n",
       "      <td>3.0</td>\n",
       "      <td>https://i.meituan.com/poi/793849332/feedbacks</td>\n",
       "      <td>15</td>\n",
       "    </tr>\n",
       "    <tr>\n",
       "      <th>33595</th>\n",
       "      <td>古琢小馆·珠海味（创想公社店）</td>\n",
       "      <td>很满意的一次就餐体验，整体评价的话我觉得：口味、服务。</td>\n",
       "      <td>5.0</td>\n",
       "      <td>https://i.meituan.com/poi/793849332/feedbacks</td>\n",
       "      <td>15</td>\n",
       "    </tr>\n",
       "    <tr>\n",
       "      <th>33596</th>\n",
       "      <td>古琢小馆·珠海味（创想公社店）</td>\n",
       "      <td>讲真的，套餐的这么多菜，居然啫啫鸡煲最难吃.很咸很油都算了，鸡超级肥，皮很厚那种.煲仔饭还行...</td>\n",
       "      <td>1.0</td>\n",
       "      <td>https://i.meituan.com/poi/793849332/feedbacks</td>\n",
       "      <td>15</td>\n",
       "    </tr>\n",
       "    <tr>\n",
       "      <th>33597</th>\n",
       "      <td>田园农庄</td>\n",
       "      <td>田园农庄已经吃过很多次了，味道还是那么赞。\\n公司开车过去十分钟，吃吃喝喝还可以会同古村溜一下</td>\n",
       "      <td>5.0</td>\n",
       "      <td>https://i.meituan.com/poi/83775836/feedbacks</td>\n",
       "      <td>1</td>\n",
       "    </tr>\n",
       "  </tbody>\n",
       "</table>\n",
       "<p>33598 rows × 5 columns</p>\n",
       "</div>"
      ],
      "text/plain": [
       "                   店铺名                                               评论内容  \\\n",
       "0       琴海海鲜大排档（横琴长隆店）  昨天情人节过来珠海长隆玩[呲牙]在周边住宿了一晚，打开美团看着这家排名第一想尝试一下，出品份...   \n",
       "1       琴海海鲜大排档（横琴长隆店）  买的是套餐，价格非常实惠，性价比非常高，菜品味道不错，连续两天都在这家吃饭，离珠海长隆海洋王...   \n",
       "2       琴海海鲜大排档（横琴长隆店）  菜的味道非常出乎意料，非常好吃，一百多的团购绝了，半斤白灼虾大概十五六只，个头可以，而且没有...   \n",
       "3       琴海海鲜大排档（横琴长隆店）  那个龙虾我是真感觉不新鲜，一上菜就是一股异味，但又不是很重，暗淡无光，就是感觉不鲜甜，没我在...   \n",
       "4       琴海海鲜大排档（横琴长隆店）  四人餐选了图片的菜还有四个生蚝一碟油菜没拍照。虾吃了8只才想起来拍照。生蚝吃起来不腥很赞！皮...   \n",
       "...                ...                                                ...   \n",
       "33593  古琢小馆·珠海味（创想公社店）            第一次和朋友来，两大两小，花了三百多，份量不多，有点小贵，大众点评打卡还送饮料   \n",
       "33594  古琢小馆·珠海味（创想公社店）  「#啫啫战斗鸡」鸡肉不错，鲜嫩多汁，很入味，推荐尝试「#鳝丝煲仔饭」鳝鱼煲仔饭就…很一般，鳝...   \n",
       "33595  古琢小馆·珠海味（创想公社店）                        很满意的一次就餐体验，整体评价的话我觉得：口味、服务。   \n",
       "33596  古琢小馆·珠海味（创想公社店）  讲真的，套餐的这么多菜，居然啫啫鸡煲最难吃.很咸很油都算了，鸡超级肥，皮很厚那种.煲仔饭还行...   \n",
       "33597             田园农庄    田园农庄已经吃过很多次了，味道还是那么赞。\\n公司开车过去十分钟，吃吃喝喝还可以会同古村溜一下   \n",
       "\n",
       "        评分                                             原链接  页码  \n",
       "0      5.0  https://i.meituan.com/poi/1413877896/feedbacks   1  \n",
       "1      5.0  https://i.meituan.com/poi/1413877896/feedbacks   1  \n",
       "2      5.0  https://i.meituan.com/poi/1413877896/feedbacks   1  \n",
       "3      2.0  https://i.meituan.com/poi/1413877896/feedbacks   1  \n",
       "4      3.5  https://i.meituan.com/poi/1413877896/feedbacks   1  \n",
       "...    ...                                             ...  ..  \n",
       "33593  4.0   https://i.meituan.com/poi/793849332/feedbacks  15  \n",
       "33594  3.0   https://i.meituan.com/poi/793849332/feedbacks  15  \n",
       "33595  5.0   https://i.meituan.com/poi/793849332/feedbacks  15  \n",
       "33596  1.0   https://i.meituan.com/poi/793849332/feedbacks  15  \n",
       "33597  5.0    https://i.meituan.com/poi/83775836/feedbacks   1  \n",
       "\n",
       "[33598 rows x 5 columns]"
      ]
     },
     "execution_count": 2,
     "metadata": {},
     "output_type": "execute_result"
    }
   ],
   "source": [
    "df = pd.read_csv('评论.csv')\n",
    "df"
   ]
  },
  {
   "cell_type": "code",
   "execution_count": 36,
   "id": "2019f082",
   "metadata": {
    "ExecuteTime": {
     "end_time": "2023-02-25T14:38:36.815789Z",
     "start_time": "2023-02-25T14:38:36.806787Z"
    }
   },
   "outputs": [
    {
     "data": {
      "text/plain": [
       "5.0    21831\n",
       "4.0     2987\n",
       "4.5     2818\n",
       "3.0     1619\n",
       "1.0     1110\n",
       "0.5     1021\n",
       "2.0      778\n",
       "3.5      720\n",
       "2.5      490\n",
       "1.5      224\n",
       "Name: 评分, dtype: int64"
      ]
     },
     "execution_count": 36,
     "metadata": {},
     "output_type": "execute_result"
    }
   ],
   "source": [
    "rate_count = df['评分'].value_counts()\n",
    "rate_count"
   ]
  },
  {
   "cell_type": "code",
   "execution_count": null,
   "id": "721eaa24",
   "metadata": {},
   "outputs": [],
   "source": []
  }
 ],
 "metadata": {
  "kernelspec": {
   "display_name": "Python 3 (ipykernel)",
   "language": "python",
   "name": "python3"
  },
  "language_info": {
   "codemirror_mode": {
    "name": "ipython",
    "version": 3
   },
   "file_extension": ".py",
   "mimetype": "text/x-python",
   "name": "python",
   "nbconvert_exporter": "python",
   "pygments_lexer": "ipython3",
   "version": "3.9.13"
  },
  "nbTranslate": {
   "displayLangs": [
    "*"
   ],
   "hotkey": "alt-t",
   "langInMainMenu": true,
   "sourceLang": "en",
   "targetLang": "zh-cn",
   "useGoogleTranslate": true
  },
  "toc": {
   "base_numbering": 1,
   "nav_menu": {},
   "number_sections": false,
   "sideBar": true,
   "skip_h1_title": false,
   "title_cell": "Table of Contents",
   "title_sidebar": "Contents",
   "toc_cell": false,
   "toc_position": {},
   "toc_section_display": true,
   "toc_window_display": true
  },
  "varInspector": {
   "cols": {
    "lenName": 16,
    "lenType": 16,
    "lenVar": 40
   },
   "kernels_config": {
    "python": {
     "delete_cmd_postfix": "",
     "delete_cmd_prefix": "del ",
     "library": "var_list.py",
     "varRefreshCmd": "print(var_dic_list())"
    },
    "r": {
     "delete_cmd_postfix": ") ",
     "delete_cmd_prefix": "rm(",
     "library": "var_list.r",
     "varRefreshCmd": "cat(var_dic_list()) "
    }
   },
   "types_to_exclude": [
    "module",
    "function",
    "builtin_function_or_method",
    "instance",
    "_Feature"
   ],
   "window_display": false
  }
 },
 "nbformat": 4,
 "nbformat_minor": 5
}
